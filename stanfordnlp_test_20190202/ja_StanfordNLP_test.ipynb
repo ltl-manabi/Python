{
 "cells": [
  {
   "cell_type": "markdown",
   "metadata": {
    "toc": true
   },
   "source": [
    "<h1>Table of Contents<span class=\"tocSkip\"></span></h1>\n",
    "<div class=\"toc\"><ul class=\"toc-item\"><li><span><a href=\"#ライブラリの読み込み\" data-toc-modified-id=\"ライブラリの読み込み-1\">ライブラリの読み込み</a></span></li><li><span><a href=\"#ファイルの読み込み\" data-toc-modified-id=\"ファイルの読み込み-2\">ファイルの読み込み</a></span></li><li><span><a href=\"#StanfordNLPによる形態素解析\" data-toc-modified-id=\"StanfordNLPによる形態素解析-3\">StanfordNLPによる形態素解析</a></span></li><li><span><a href=\"#原形だけ取り出す\" data-toc-modified-id=\"原形だけ取り出す-4\">原形だけ取り出す</a></span></li></ul></div>"
   ]
  },
  {
   "cell_type": "markdown",
   "metadata": {},
   "source": [
    "# StanfordNLPライブラリのテスト"
   ]
  },
  {
   "cell_type": "markdown",
   "metadata": {},
   "source": [
    "## ライブラリの読み込み"
   ]
  },
  {
   "cell_type": "code",
   "execution_count": 1,
   "metadata": {
    "ExecuteTime": {
     "end_time": "2019-02-02T08:12:44.821584Z",
     "start_time": "2019-02-02T08:12:43.885366Z"
    }
   },
   "outputs": [],
   "source": [
    "import stanfordnlp\n",
    "import text_preprocessing as tp # 自作の前処理用関数"
   ]
  },
  {
   "cell_type": "markdown",
   "metadata": {},
   "source": [
    "## ファイルの読み込み\n",
    "データ出典: ロンウィット社「livedoor ニュースコーパス」 https://www.rondhuit.com/download.html#ldcc"
   ]
  },
  {
   "cell_type": "code",
   "execution_count": 2,
   "metadata": {
    "ExecuteTime": {
     "end_time": "2019-02-02T08:12:47.350162Z",
     "start_time": "2019-02-02T08:12:47.268361Z"
    }
   },
   "outputs": [],
   "source": [
    "text = tp.parse_text('sample_file.txt')"
   ]
  },
  {
   "cell_type": "code",
   "execution_count": 3,
   "metadata": {
    "ExecuteTime": {
     "end_time": "2019-02-02T08:12:48.738963Z",
     "start_time": "2019-02-02T08:12:48.722551Z"
    }
   },
   "outputs": [
    {
     "data": {
      "text/plain": [
       "'元メジャー最多勝投手、突然の帰国に「グリーンウェルよりひどいぞこれ」 開幕から9試合を戦い7勝と、見事なスタートダッシュをきったソフトバンクホークス。昨季のディフェンディングチャンピオンながら、杉内俊哉、和田毅、ホールトンという主力3投手の離脱が不安視されるも、新エースの攝津正や、完全復活を遂げた新垣渚らが踏ん張り、王者の意地を見せている。 そんな折、4日の楽天戦では、ソフトバンクの秘密兵器であり、大型補強の目玉=2006年のメジャー最多勝投手ブラッド・ペニーが遂に来日初登板。マーリンズ、ドジャース、レッドソックス、ジャイアンツ、カージナルス、タイガースと名門チームを渡り歩き、昨季も31試合に先発して11勝を挙げている超大物外国人投手の登場に、kスタ宮城に集結したファンも熱い視線を注いだ。 しかし、その初登板は、3回で被安打7、失点6という散々なもの。まだ日本の雰囲気や、球場なりマウンドに慣れていなかったか、メジャーの豪腕披露は次回の登板に持ち越しとなった。 だが、その試合後、右肩の痛みを訴えたペニーは、翌日に出場選手登録を抹消されることに。また、福岡市内の病院で検査を受け、異常なしとされたにも関わらず、7日には帰国をしてしまった。 高山郁夫一軍投手コーチは、一部のメディアに「戻ってくることを願っている」とコメントし、僅か64球を投げただけの年俸約2億2800万円とされるメジャー戦士の再来日を信じたが、この残念な帰国に、掲示板へコメントを寄せるネットのユーザからは「これは連絡がつかなくなるパターンですねぇ」「異常なかったんじゃないの?w」「一試合で2億8千万 」「久しぶりの糞外人だな」「逃げたらまじで許さんわ」「1球あたりコスト=356万2500円」といった辛らつな発言が並ぶ。 さらに、コメントの中には「グリーンウェルよりひどいぞこれ」という書き込みもあり、1997年に球団史上最高額の年俸3億円強で阪神タイガースに来日するも、春季キャンプ時に一時帰国するわ、再来日後の5月に自打球を右足甲に当てて骨折するとアッサリ引退宣言するわ、その後も阪神球団と契約不履行で揉めるわと、プロ野球史上最低の外国人選手と揶揄されたグリーンウェルを引き合いに出す声も見られた。 今回のペニーはグリーンウェルを超えるか——、色んな意味で、その再来日に注目が集まりそうだ。 ・右肩痛のペニーが帰国=プロ野球・ソフトバンク ・聖沢にかき回された? ペニー ・sb新垣、波乱の連続だった野球人生とは?'"
      ]
     },
     "execution_count": 3,
     "metadata": {},
     "output_type": "execute_result"
    }
   ],
   "source": [
    "text"
   ]
  },
  {
   "cell_type": "markdown",
   "metadata": {},
   "source": [
    "## StanfordNLPによる形態素解析"
   ]
  },
  {
   "cell_type": "code",
   "execution_count": 4,
   "metadata": {
    "ExecuteTime": {
     "end_time": "2019-02-02T08:26:27.548423Z",
     "start_time": "2019-02-02T08:12:52.780841Z"
    }
   },
   "outputs": [
    {
     "name": "stdout",
     "output_type": "stream",
     "text": [
      "Using the default treebank \"ja_gsd\" for language \"ja\".\n",
      "Would you like to download the models for: ja_gsd now? (Y/n)\n",
      "Y\n",
      "\n",
      "Default download directory: /home/ktanaka/stanfordnlp_resources\n",
      "Hit enter to continue or type an alternate directory.\n",
      "\n",
      "\n",
      "Downloading models for: ja_gsd\n",
      "Download location: /home/ktanaka/stanfordnlp_resources/ja_gsd_models.zip\n"
     ]
    },
    {
     "name": "stderr",
     "output_type": "stream",
     "text": [
      "100%|██████████| 1.93G/1.93G [12:57<00:00, 3.02MB/s]\n"
     ]
    },
    {
     "name": "stdout",
     "output_type": "stream",
     "text": [
      "\n",
      "Download complete.  Models saved to: /home/ktanaka/stanfordnlp_resources/ja_gsd_models.zip\n",
      "Extracting models file for: ja_gsd\n",
      "Cleaning up...Done.\n"
     ]
    }
   ],
   "source": [
    "stanfordnlp.download('ja')"
   ]
  },
  {
   "cell_type": "code",
   "execution_count": 5,
   "metadata": {
    "ExecuteTime": {
     "end_time": "2019-02-02T08:31:48.543192Z",
     "start_time": "2019-02-02T08:31:05.862874Z"
    }
   },
   "outputs": [
    {
     "name": "stdout",
     "output_type": "stream",
     "text": [
      "Use device: cpu\n",
      "---\n",
      "Loading: tokenize\n",
      "With settings: \n",
      "{'model_path': '/home/ktanaka/stanfordnlp_resources/ja_gsd_models/ja_gsd_tokenizer.pt', 'lang': 'ja', 'shorthand': 'ja_gsd', 'mode': 'predict'}\n",
      "---\n",
      "Loading: pos\n",
      "With settings: \n",
      "{'model_path': '/home/ktanaka/stanfordnlp_resources/ja_gsd_models/ja_gsd_tagger.pt', 'pretrain_path': '/home/ktanaka/stanfordnlp_resources/ja_gsd_models/ja_gsd.pretrain.pt', 'lang': 'ja', 'shorthand': 'ja_gsd', 'mode': 'predict'}\n",
      "---\n",
      "Loading: lemma\n",
      "With settings: \n",
      "{'model_path': '/home/ktanaka/stanfordnlp_resources/ja_gsd_models/ja_gsd_lemmatizer.pt', 'lang': 'ja', 'shorthand': 'ja_gsd', 'mode': 'predict'}\n",
      "Building an attentional Seq2Seq model...\n",
      "Using a Bi-LSTM encoder\n",
      "Using soft attention for LSTM.\n",
      "Finetune all embeddings.\n",
      "[Running seq2seq lemmatizer with edit classifier]\n",
      "---\n",
      "Loading: depparse\n",
      "With settings: \n",
      "{'model_path': '/home/ktanaka/stanfordnlp_resources/ja_gsd_models/ja_gsd_parser.pt', 'pretrain_path': '/home/ktanaka/stanfordnlp_resources/ja_gsd_models/ja_gsd.pretrain.pt', 'lang': 'ja', 'shorthand': 'ja_gsd', 'mode': 'predict'}\n",
      "Done loading processors!\n",
      "---\n"
     ]
    }
   ],
   "source": [
    "nlp = stanfordnlp.Pipeline(lang=\"ja\")"
   ]
  },
  {
   "cell_type": "code",
   "execution_count": 6,
   "metadata": {
    "ExecuteTime": {
     "end_time": "2019-02-02T08:31:53.530453Z",
     "start_time": "2019-02-02T08:31:51.845525Z"
    }
   },
   "outputs": [],
   "source": [
    "doc = nlp(text)"
   ]
  },
  {
   "cell_type": "code",
   "execution_count": 7,
   "metadata": {
    "ExecuteTime": {
     "end_time": "2019-02-02T08:32:02.051741Z",
     "start_time": "2019-02-02T08:32:02.044612Z"
    }
   },
   "outputs": [
    {
     "name": "stdout",
     "output_type": "stream",
     "text": [
      "('元', '4', 'amod')\n",
      "('メジャー', '4', 'compound')\n",
      "('最多勝', '4', 'compound')\n",
      "('投手', '34', 'nmod')\n",
      "('、', '4', 'punct')\n",
      "('突然', '8', 'acl')\n",
      "('の', '6', 'aux')\n",
      "('帰国', '21', 'nmod')\n",
      "('に', '8', 'case')\n",
      "('「', '11', 'punct')\n",
      "('グリーンウェル', '13', 'obl')\n",
      "('より', '11', 'case')\n",
      "('ひどいぞ', '14', 'acl')\n",
      "('これ', '16', 'nmod')\n",
      "('」', '14', 'punct')\n",
      "('開幕', '21', 'nmod')\n",
      "('から', '16', 'case')\n",
      "('9', '21', 'nmod')\n",
      "('試合', '18', 'mark')\n",
      "('を', '18', 'case')\n",
      "('戦い', '22', 'compound')\n",
      "('7', '31', 'obl')\n",
      "('勝', '22', 'mark')\n",
      "('と', '22', 'case')\n",
      "('、', '22', 'punct')\n",
      "('見事', '29', 'acl')\n",
      "('な', '26', 'aux')\n",
      "('スタート', '29', 'compound')\n",
      "('ダッシュ', '31', 'obj')\n",
      "('を', '29', 'case')\n",
      "('きっ', '34', 'acl')\n",
      "('た', '31', 'aux')\n",
      "('ソフトバンク', '34', 'compound')\n",
      "('ホークス', '0', 'root')\n",
      "('。', '34', 'punct')\n"
     ]
    }
   ],
   "source": [
    "doc.sentences[0].print_dependencies()"
   ]
  },
  {
   "cell_type": "code",
   "execution_count": 8,
   "metadata": {
    "ExecuteTime": {
     "end_time": "2019-02-02T08:32:11.505845Z",
     "start_time": "2019-02-02T08:32:11.500050Z"
    }
   },
   "outputs": [
    {
     "data": {
      "text/plain": [
       "'元'"
      ]
     },
     "execution_count": 8,
     "metadata": {},
     "output_type": "execute_result"
    }
   ],
   "source": [
    "doc.sentences[0].tokens[0].words[0].lemma"
   ]
  },
  {
   "cell_type": "code",
   "execution_count": 9,
   "metadata": {
    "ExecuteTime": {
     "end_time": "2019-02-02T08:32:12.873439Z",
     "start_time": "2019-02-02T08:32:12.869152Z"
    }
   },
   "outputs": [
    {
     "data": {
      "text/plain": [
       "35"
      ]
     },
     "execution_count": 9,
     "metadata": {},
     "output_type": "execute_result"
    }
   ],
   "source": [
    "len(doc.sentences[0].tokens)"
   ]
  },
  {
   "cell_type": "markdown",
   "metadata": {},
   "source": [
    "## 原形だけ取り出す"
   ]
  },
  {
   "cell_type": "code",
   "execution_count": 10,
   "metadata": {
    "ExecuteTime": {
     "end_time": "2019-02-02T08:32:17.829909Z",
     "start_time": "2019-02-02T08:32:17.812189Z"
    }
   },
   "outputs": [
    {
     "name": "stdout",
     "output_type": "stream",
     "text": [
      "元\n",
      "メジャー\n",
      "最多勝\n",
      "投手\n",
      "、\n",
      "突然\n",
      "だ\n",
      "帰国\n",
      "に\n",
      "「\n",
      "グリーンウェル\n",
      "より\n",
      "ひどいぞ\n",
      "これ\n",
      "昨季\n",
      "の\n",
      "ディフェンディング\n",
      "チャンピオン\n",
      "ながら\n",
      "、\n",
      "杉内\n",
      "俊哉\n",
      "、\n",
      "和田\n",
      "毅\n",
      "、\n",
      "ホールトン\n",
      "という\n",
      "そんな\n",
      "折\n",
      "、\n",
      "4\n",
      "日\n",
      "の\n",
      "楽天\n",
      "戦\n",
      "で\n",
      "は\n",
      "、\n",
      "ソフトバンク\n",
      "の\n",
      "秘密\n",
      "マーリンズ\n",
      "、\n",
      "ドジャース\n",
      "、\n",
      "レッドソックス\n",
      "、\n",
      "ジャイアンツ\n",
      "、\n",
      "カージナルス\n",
      "、\n",
      "タイガース\n",
      "と\n",
      "名門\n",
      "チーム\n",
      "しかし\n",
      "、\n",
      "その\n",
      "初\n",
      "登板\n",
      "は\n",
      "、\n",
      "3\n",
      "回\n",
      "で\n",
      "被安打\n",
      "7\n",
      "、\n",
      "失点\n",
      "まだ\n",
      "日本\n",
      "の\n",
      "雰囲気\n",
      "や\n",
      "、\n",
      "球場\n",
      "なり\n",
      "マウンド\n",
      "に\n",
      "慣れる\n",
      "て\n",
      "いる\n",
      "ない\n",
      "だが\n",
      "、\n",
      "その\n",
      "試合\n",
      "後\n",
      "、\n",
      "右肩\n",
      "の\n",
      "痛み\n",
      "を\n",
      "訴える\n",
      "た\n",
      "ペニー\n",
      "は\n",
      "また\n",
      "、\n",
      "福岡市\n",
      "内\n",
      "の\n",
      "病院\n",
      "で\n",
      "検査\n",
      "を\n",
      "受ける\n",
      "、\n",
      "異常\n",
      "なし\n",
      "と\n",
      "高山\n",
      "郁夫\n",
      "一軍\n",
      "投手\n",
      "コーチ\n",
      "は\n",
      "、\n",
      "一部\n",
      "の\n",
      "メディア\n",
      "に\n",
      "「\n",
      "戻る\n",
      "て\n",
      "w\n",
      "」\n",
      "「\n",
      "一\n",
      "試合\n",
      "で\n",
      "2\n",
      "億\n",
      "8\n",
      "千万\n",
      "」\n",
      "「\n",
      "久しぶり\n",
      "だ\n",
      "さらに\n",
      "、\n",
      "コメント\n",
      "の\n",
      "中\n",
      "に\n",
      "は\n",
      "「\n",
      "グリーンウェル\n",
      "より\n",
      "ひどいぞ\n",
      "これ\n",
      "」\n",
      "という\n",
      "今回\n",
      "の\n",
      "ペニー\n",
      "は\n",
      "グリーンウェル\n",
      "を\n",
      "超える\n",
      "か—\n",
      "—\n",
      "、\n",
      "色んな\n",
      "意味\n",
      "で\n",
      "、\n",
      "・\n",
      "右\n",
      "肩痛\n",
      "の\n",
      "ペニー\n",
      "が\n",
      "帰国\n",
      "=\n",
      "プロ野球\n",
      "・\n",
      "ソフトバンク\n",
      "・\n",
      "聖沢\n",
      "に\n",
      "ペニー\n",
      "・\n",
      "sb\n",
      "新垣\n",
      "、\n",
      "波乱\n",
      "の\n",
      "連続\n",
      "だ\n",
      "た\n",
      "野球人生\n",
      "と\n",
      "は\n",
      "?\n"
     ]
    }
   ],
   "source": [
    "for i in range(len(doc.sentences)):\n",
    "    for j in range(len(doc.sentences)):\n",
    "        print(doc.sentences[i].tokens[j].words[0].lemma)"
   ]
  }
 ],
 "metadata": {
  "kernelspec": {
   "display_name": "Python 3",
   "language": "python",
   "name": "python3"
  },
  "language_info": {
   "codemirror_mode": {
    "name": "ipython",
    "version": 3
   },
   "file_extension": ".py",
   "mimetype": "text/x-python",
   "name": "python",
   "nbconvert_exporter": "python",
   "pygments_lexer": "ipython3",
   "version": "3.6.8"
  },
  "toc": {
   "base_numbering": 1,
   "nav_menu": {},
   "number_sections": false,
   "sideBar": true,
   "skip_h1_title": true,
   "title_cell": "Table of Contents",
   "title_sidebar": "Contents",
   "toc_cell": true,
   "toc_position": {},
   "toc_section_display": true,
   "toc_window_display": false
  }
 },
 "nbformat": 4,
 "nbformat_minor": 2
}
